{
 "cells": [
  {
   "cell_type": "code",
   "execution_count": 291,
   "id": "initial_id",
   "metadata": {
    "collapsed": true,
    "ExecuteTime": {
     "end_time": "2025-02-28T22:59:20.224330Z",
     "start_time": "2025-02-28T22:59:20.220208Z"
    }
   },
   "outputs": [],
   "source": [
    "import numpy as np"
   ]
  },
  {
   "cell_type": "code",
   "execution_count": 292,
   "outputs": [],
   "source": [
    "all_quasar = np.loadtxt('check_airmass_project/airmasschecker/HW1quasarfile.txt', dtype=str)"
   ],
   "metadata": {
    "collapsed": false,
    "ExecuteTime": {
     "end_time": "2025-02-28T22:59:20.786801Z",
     "start_time": "2025-02-28T22:59:20.783964Z"
    }
   },
   "id": "1bf05134a63cf634"
  },
  {
   "cell_type": "code",
   "execution_count": 293,
   "outputs": [],
   "source": [
    "def convert_ra_dec(coord_array):\n",
    "    \n",
    "    split_idx = 9\n",
    "    ra_str, dec_str = [e[:split_idx] for e in coord_array], [e[split_idx:] for e in coord_array]\n",
    "    \n",
    "    ra = [ f\"{np.dot(list(map(float, [e[:2], e[2:4], e[4:]])), [15, 15./60, 15./3600]):.5f}\" for e in ra_str ]\n",
    "    dec = [ f\"{e[0]}{np.dot(list(map(float, [e[1:3], e[3:5], e[5:]])), [1, 1./60, 1./3600]):.5f}\" for e in dec_str ]\n",
    "    \n",
    "    np.savetxt('check_airmass_project/airmasschecker/coord_all_quasar.txt', list(zip(ra, dec)), fmt=\"%s\")"
   ],
   "metadata": {
    "collapsed": false,
    "ExecuteTime": {
     "end_time": "2025-02-28T22:59:22.243884Z",
     "start_time": "2025-02-28T22:59:22.241099Z"
    }
   },
   "id": "31ecc778c6db8273"
  },
  {
   "cell_type": "code",
   "execution_count": 294,
   "outputs": [],
   "source": [
    "convert_ra_dec(all_quasar)"
   ],
   "metadata": {
    "collapsed": false,
    "ExecuteTime": {
     "end_time": "2025-02-28T22:59:29.787182Z",
     "start_time": "2025-02-28T22:59:29.772628Z"
    }
   },
   "id": "2c5a9816417e7cc1"
  },
  {
   "cell_type": "code",
   "execution_count": null,
   "outputs": [],
   "source": [],
   "metadata": {
    "collapsed": false
   },
   "id": "6ef3ff6d1bb61f35"
  }
 ],
 "metadata": {
  "kernelspec": {
   "display_name": "Python 3",
   "language": "python",
   "name": "python3"
  },
  "language_info": {
   "codemirror_mode": {
    "name": "ipython",
    "version": 2
   },
   "file_extension": ".py",
   "mimetype": "text/x-python",
   "name": "python",
   "nbconvert_exporter": "python",
   "pygments_lexer": "ipython2",
   "version": "2.7.6"
  }
 },
 "nbformat": 4,
 "nbformat_minor": 5
}
