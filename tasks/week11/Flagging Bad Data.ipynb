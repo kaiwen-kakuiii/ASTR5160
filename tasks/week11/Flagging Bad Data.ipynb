{
 "cells": [
  {
   "cell_type": "code",
   "execution_count": 2,
   "id": "c7cf9783",
   "metadata": {},
   "outputs": [],
   "source": [
    "import numpy as np\n",
    "import astropy.units as u\n",
    "from astropy.io import fits\n",
    "from astropy.table import Table\n",
    "from astropy.coordinates import SkyCoord"
   ]
  },
  {
   "cell_type": "markdown",
   "id": "781db537",
   "metadata": {},
   "source": [
    "## Part 1"
   ]
  },
  {
   "cell_type": "code",
   "execution_count": 100,
   "id": "8152a44e",
   "metadata": {
    "scrolled": false
   },
   "outputs": [
    {
     "name": "stderr",
     "output_type": "stream",
     "text": [
      "WARNING: UnitsWarning: '1/deg^2' did not parse as fits unit: Numeric factor not supported by FITS If this is meant to be a custom unit, define it with 'u.def_unit'. To have it recognized inside a file reader or other code, enable it with 'u.add_enabled_units'. For details, see https://docs.astropy.org/en/latest/units/combining_and_defining.html [astropy.units.core]\n",
      "WARNING: UnitsWarning: 'nanomaggy' did not parse as fits unit: At col 0, Unit 'nanomaggy' not supported by the FITS standard.  If this is meant to be a custom unit, define it with 'u.def_unit'. To have it recognized inside a file reader or other code, enable it with 'u.add_enabled_units'. For details, see https://docs.astropy.org/en/latest/units/combining_and_defining.html [astropy.units.core]\n",
      "WARNING: UnitsWarning: '1/nanomaggy^2' did not parse as fits unit: Numeric factor not supported by FITS If this is meant to be a custom unit, define it with 'u.def_unit'. To have it recognized inside a file reader or other code, enable it with 'u.add_enabled_units'. For details, see https://docs.astropy.org/en/latest/units/combining_and_defining.html [astropy.units.core]\n",
      "WARNING: UnitsWarning: '1/arcsec^2' did not parse as fits unit: Numeric factor not supported by FITS If this is meant to be a custom unit, define it with 'u.def_unit'. To have it recognized inside a file reader or other code, enable it with 'u.add_enabled_units'. For details, see https://docs.astropy.org/en/latest/units/combining_and_defining.html [astropy.units.core]\n",
      "WARNING: UnitsWarning: '1/mas^2' did not parse as fits unit: Numeric factor not supported by FITS If this is meant to be a custom unit, define it with 'u.def_unit'. To have it recognized inside a file reader or other code, enable it with 'u.add_enabled_units'. For details, see https://docs.astropy.org/en/latest/units/combining_and_defining.html [astropy.units.core]\n",
      "WARNING: UnitsWarning: '1/(mas/yr)^2' did not parse as fits unit: Numeric factor not supported by FITS If this is meant to be a custom unit, define it with 'u.def_unit'. To have it recognized inside a file reader or other code, enable it with 'u.add_enabled_units'. For details, see https://docs.astropy.org/en/latest/units/combining_and_defining.html [astropy.units.core]\n"
     ]
    }
   ],
   "source": [
    "data = Table.read('/d/scratch/ASTR5160/data/legacysurvey/dr9/south/sweep/9.0/sweep-180p020-190p025.fits')"
   ]
  },
  {
   "cell_type": "code",
   "execution_count": 103,
   "id": "c7f6ea4d",
   "metadata": {},
   "outputs": [],
   "source": [
    "target = SkyCoord(188.53667*u.deg, 21.04572*u.deg)\n",
    "sample_coord = SkyCoord(data['RA'], data['DEC'])"
   ]
  },
  {
   "cell_type": "code",
   "execution_count": 104,
   "id": "21ac79a7",
   "metadata": {},
   "outputs": [],
   "source": [
    "index = np.argmin(sample_coord.separation(target))\n",
    "obj = data[index]"
   ]
  },
  {
   "cell_type": "code",
   "execution_count": 105,
   "id": "775ae259",
   "metadata": {},
   "outputs": [
    {
     "name": "stdout",
     "output_type": "stream",
     "text": [
      "EXP, guess it means galaxy\n"
     ]
    }
   ],
   "source": [
    "print(obj['TYPE']+', guess it means galaxy')"
   ]
  },
  {
   "cell_type": "markdown",
   "id": "f1b45212",
   "metadata": {},
   "source": [
    "## Part 2"
   ]
  },
  {
   "cell_type": "code",
   "execution_count": 106,
   "id": "126dea2a",
   "metadata": {},
   "outputs": [],
   "source": [
    "flag_all_g = 2 ** 5\n",
    "flag_all_r = 2 ** 6\n",
    "flag_all_z = 2 ** 7\n",
    "\n",
    "res = 3 - (int(obj['MASKBITS'] & flag_all_g == 0) \\\n",
    "    + int(obj['MASKBITS'] & flag_all_r == 0) + int(obj['MASKBITS'] & flag_all_z == 0))"
   ]
  },
  {
   "cell_type": "code",
   "execution_count": 107,
   "id": "3f264f02",
   "metadata": {},
   "outputs": [
    {
     "name": "stdout",
     "output_type": "stream",
     "text": [
      "saturation happens at 3 bands\n"
     ]
    }
   ],
   "source": [
    "print(f'saturation happens at {res} bands')"
   ]
  },
  {
   "cell_type": "markdown",
   "id": "88df718e",
   "metadata": {},
   "source": [
    "## Well, the SDSS viewer says it is a star. It is definitely saturated!"
   ]
  },
  {
   "cell_type": "markdown",
   "id": "cb4aa21f",
   "metadata": {},
   "source": [
    "## Part 3"
   ]
  },
  {
   "cell_type": "code",
   "execution_count": 3,
   "id": "776e91bc",
   "metadata": {},
   "outputs": [],
   "source": [
    "files = ['/d/scratch/ASTR5160/data/legacysurvey/dr9/south/sweep/9.0/sweep-170p030-180p035.fits',\n",
    "         '/d/scratch/ASTR5160/data/legacysurvey/dr9/south/sweep/9.0/sweep-180p025-190p030.fits',\n",
    "         '/d/scratch/ASTR5160/data/legacysurvey/dr9/south/sweep/9.0/sweep-180p030-190p035.fits']\n",
    "\n",
    "hdul = fits.open('/d/scratch/ASTR5160/data/legacysurvey/dr9/south/sweep/9.0/sweep-170p025-180p030.fits')\n",
    "data = hdul[1].data\n",
    "hdul.close()\n",
    "\n",
    "all_data = np.vstack((data['RA'], data['DEC'], data['TYPE'], data['FLUX_R']/data['MW_TRANSMISSION_R']))\n",
    "\n",
    "for i in files:\n",
    "    hdul = fits.open(i)\n",
    "    data = hdul[1].data\n",
    "    hdul.close()\n",
    "\n",
    "    tem = np.vstack((data['RA'], data['DEC'], data['TYPE'], data['FLUX_R']/data['MW_TRANSMISSION_R']))\n",
    "\n",
    "    all_data = np.hstack((all_data, tem))"
   ]
  },
  {
   "cell_type": "code",
   "execution_count": 4,
   "id": "c8a037b9",
   "metadata": {},
   "outputs": [],
   "source": [
    "target = SkyCoord([180]*u.deg, [30]*u.deg)\n",
    "sweep_sample = SkyCoord(all_data[0, :].astype(float)*u.deg, all_data[1, :].astype(float)*u.deg)\n",
    "index_sweep, _, _, _ = target.search_around_sky(sweep_sample, 3*u.deg)"
   ]
  },
  {
   "cell_type": "code",
   "execution_count": 5,
   "id": "e6cb8660",
   "metadata": {},
   "outputs": [],
   "source": [
    "sweep_sample_selected = all_data[:, index_sweep]\n",
    "detected = sweep_sample_selected[3].astype(float) > 0\n",
    "sweep_sample_selected_detected = sweep_sample_selected[:, detected]"
   ]
  },
  {
   "cell_type": "code",
   "execution_count": 6,
   "id": "fd7aaaab",
   "metadata": {},
   "outputs": [],
   "source": [
    "qso_mag = (lambda x: 22.5 - 2.5*np.log10(x))(sweep_sample_selected_detected[3].astype(float))"
   ]
  },
  {
   "cell_type": "code",
   "execution_count": 7,
   "id": "ca59cb55",
   "metadata": {},
   "outputs": [],
   "source": [
    "masked = (qso_mag < 20) & (sweep_sample_selected_detected[2] == 'PSF')\n",
    "res = sweep_sample_selected_detected[:, masked]"
   ]
  },
  {
   "cell_type": "code",
   "execution_count": 8,
   "id": "75094092",
   "metadata": {},
   "outputs": [
    {
     "name": "stdout",
     "output_type": "stream",
     "text": [
      "I find 40427 objects after r band cut and PSF selected\n"
     ]
    }
   ],
   "source": [
    "print(f'I find {len(res[0])} objects after r band cut and PSF selected')"
   ]
  },
  {
   "cell_type": "code",
   "execution_count": 9,
   "id": "d7ebf537",
   "metadata": {},
   "outputs": [],
   "source": [
    "qso = np.loadtxt('/d/users/kaiwen/Downloads/qso.txt')\n",
    "qso_sample = SkyCoord(qso[:, 0]*u.deg, qso[:, 1]*u.deg)\n",
    "\n",
    "current_data = res[:2].transpose().astype(float)\n",
    "current_sample = SkyCoord(current_data[:, 0]*u.deg, current_data[:, 1]*u.deg)"
   ]
  },
  {
   "cell_type": "code",
   "execution_count": 16,
   "id": "863232c6",
   "metadata": {},
   "outputs": [],
   "source": [
    "index_match, _, _, _ = current_sample.search_around_sky(qso_sample, 0.5*u.arcsec)"
   ]
  },
  {
   "cell_type": "code",
   "execution_count": 22,
   "id": "9826f825",
   "metadata": {},
   "outputs": [
    {
     "name": "stdout",
     "output_type": "stream",
     "text": [
      "I find 280 QSOs\n"
     ]
    }
   ],
   "source": [
    "print(f'I find {len(current_data[index_match])} QSOs')"
   ]
  },
  {
   "cell_type": "code",
   "execution_count": 23,
   "id": "8e9db474",
   "metadata": {},
   "outputs": [],
   "source": [
    "qso_selected = qso[index_match]\n",
    "np.savetxt('/d/users/kaiwen/Downloads/qso_selected.txt', qso_selected)"
   ]
  },
  {
   "cell_type": "code",
   "execution_count": null,
   "id": "dfd7b29a",
   "metadata": {},
   "outputs": [],
   "source": []
  }
 ],
 "metadata": {
  "kernelspec": {
   "display_name": "Python 3 (ipykernel)",
   "language": "python",
   "name": "python3"
  },
  "language_info": {
   "codemirror_mode": {
    "name": "ipython",
    "version": 3
   },
   "file_extension": ".py",
   "mimetype": "text/x-python",
   "name": "python",
   "nbconvert_exporter": "python",
   "pygments_lexer": "ipython3",
   "version": "3.11.4"
  }
 },
 "nbformat": 4,
 "nbformat_minor": 5
}
