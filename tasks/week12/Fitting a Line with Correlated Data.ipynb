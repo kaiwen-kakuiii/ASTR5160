{
 "cells": [
  {
   "cell_type": "code",
   "execution_count": 4,
   "id": "68dfcdff",
   "metadata": {},
   "outputs": [],
   "source": [
    "import numpy as np\n",
    "from scipy.stats import chi2\n",
    "from matplotlib import pyplot as plt"
   ]
  },
  {
   "cell_type": "code",
   "execution_count": 5,
   "id": "78f7786d",
   "metadata": {},
   "outputs": [],
   "source": [
    "data = np.loadtxt('/d/scratch/ASTR5160/week13/line.data')"
   ]
  },
  {
   "cell_type": "code",
   "execution_count": 17,
   "id": "877acf15",
   "metadata": {},
   "outputs": [
    {
     "data": {
      "text/plain": [
       "(20, 20)"
      ]
     },
     "execution_count": 17,
     "metadata": {},
     "output_type": "execute_result"
    }
   ],
   "source": [
    "np.cov(data).shape"
   ]
  },
  {
   "cell_type": "code",
   "execution_count": 18,
   "id": "32a835f6",
   "metadata": {},
   "outputs": [
    {
     "data": {
      "text/plain": [
       "(10, 10)"
      ]
     },
     "execution_count": 18,
     "metadata": {},
     "output_type": "execute_result"
    }
   ],
   "source": [
    "np.cov(data.T).shape"
   ]
  },
  {
   "cell_type": "markdown",
   "id": "2d08e9bc",
   "metadata": {},
   "source": [
    "### It should be 10 x 10, since we are comparing the data at 10 X bins."
   ]
  },
  {
   "cell_type": "code",
   "execution_count": 19,
   "id": "cb879c09",
   "metadata": {},
   "outputs": [
    {
     "data": {
      "text/plain": [
       "array([[ 2.48215158, -0.05509789,  0.81094947, -2.10696421, -0.04715579,\n",
       "        -0.44605684,  0.31475579, -0.96157263, -0.01887158,  0.19836105],\n",
       "       [-0.05509789,  3.03276289,  0.50064184,  0.01458105,  0.01057079,\n",
       "         1.35410842,  0.39892526,  0.45842553,  0.69326816, -0.49334447],\n",
       "       [ 0.81094947,  0.50064184,  2.06864711, -1.30788737,  1.81136026,\n",
       "         0.30375053, -0.29283263,  1.74154132,  0.69772079,  0.26008184],\n",
       "       [-2.10696421,  0.01458105, -1.30788737,  4.07237263, -0.56965579,\n",
       "         0.42603789,  0.53855053,  0.68338526, -0.24751368, -0.66288632],\n",
       "       [-0.04715579,  0.01057079,  1.81136026, -0.56965579,  7.64657342,\n",
       "        -0.83363895, -1.13338   ,  4.05435447,  0.650655  , -0.28148395],\n",
       "       [-0.44605684,  1.35410842,  0.30375053,  0.42603789, -0.83363895,\n",
       "         3.59520421,  1.06703368,  0.88481474, -0.03568632,  0.92541263],\n",
       "       [ 0.31475579,  0.39892526, -0.29283263,  0.53855053, -1.13338   ,\n",
       "         1.06703368,  2.00420632, -0.52836105, -1.05079053,  0.31782737],\n",
       "       [-0.96157263,  0.45842553,  1.74154132,  0.68338526,  4.05435447,\n",
       "         0.88481474, -0.52836105,  5.25412921,  0.65599395, -0.65704395],\n",
       "       [-0.01887158,  0.69326816,  0.69772079, -0.24751368,  0.650655  ,\n",
       "        -0.03568632, -1.05079053,  0.65599395,  2.75772079, -0.44942342],\n",
       "       [ 0.19836105, -0.49334447,  0.26008184, -0.66288632, -0.28148395,\n",
       "         0.92541263,  0.31782737, -0.65704395, -0.44942342,  1.89032079]])"
      ]
     },
     "execution_count": 19,
     "metadata": {},
     "output_type": "execute_result"
    }
   ],
   "source": [
    "np.cov(data.T)"
   ]
  },
  {
   "cell_type": "code",
   "execution_count": 26,
   "id": "7a9e1103",
   "metadata": {},
   "outputs": [
    {
     "data": {
      "text/plain": [
       "(2.4821515789473687, 2.4821515789473687)"
      ]
     },
     "execution_count": 26,
     "metadata": {},
     "output_type": "execute_result"
    }
   ],
   "source": [
    "np.var(data.T[0], ddof=1), np.cov(data.T)[0, 0]"
   ]
  },
  {
   "cell_type": "code",
   "execution_count": 27,
   "id": "7eee478d",
   "metadata": {},
   "outputs": [
    {
     "data": {
      "text/plain": [
       "(3.032762894736841, 3.0327628947368415)"
      ]
     },
     "execution_count": 27,
     "metadata": {},
     "output_type": "execute_result"
    }
   ],
   "source": [
    "np.var(data.T[1], ddof=1), np.cov(data.T)[1, 1]"
   ]
  },
  {
   "cell_type": "code",
   "execution_count": 28,
   "id": "e06fa7a1",
   "metadata": {},
   "outputs": [
    {
     "data": {
      "text/plain": [
       "array([[ 1.        , -0.02008175,  0.35787919, -0.66270348, -0.01082399,\n",
       "        -0.14931873,  0.14111993, -0.26626714, -0.00721305,  0.09157449],\n",
       "       [-0.02008175,  1.        ,  0.19987787,  0.00414902,  0.0021951 ,\n",
       "         0.41008363,  0.16180841,  0.11484159,  0.23972144, -0.20604557],\n",
       "       [ 0.35787919,  0.19987787,  1.        , -0.45061266,  0.45543688,\n",
       "         0.11138124, -0.14381529,  0.52825085,  0.29212136,  0.1315222 ],\n",
       "       [-0.66270348,  0.00414902, -0.45061266,  1.        , -0.10208345,\n",
       "         0.11134294,  0.18850874,  0.14773775, -0.07385847, -0.23891727],\n",
       "       [-0.01082399,  0.0021951 ,  0.45543688, -0.10208345,  1.        ,\n",
       "        -0.15899475, -0.28951489,  0.63964338,  0.14169098, -0.07403762],\n",
       "       [-0.14931873,  0.41008363,  0.11138124,  0.11134294, -0.15899475,\n",
       "         1.        ,  0.39750732,  0.20358238, -0.01133352,  0.35498164],\n",
       "       [ 0.14111993,  0.16180841, -0.14381529,  0.18850874, -0.28951489,\n",
       "         0.39750732,  1.        , -0.16282055, -0.44696116,  0.16328727],\n",
       "       [-0.26626714,  0.11484159,  0.52825085,  0.14773775,  0.63964338,\n",
       "         0.20358238, -0.16282055,  1.        ,  0.17233533, -0.20848571],\n",
       "       [-0.00721305,  0.23972144,  0.29212136, -0.07385847,  0.14169098,\n",
       "        -0.01133352, -0.44696116,  0.17233533,  1.        , -0.19683975],\n",
       "       [ 0.09157449, -0.20604557,  0.1315222 , -0.23891727, -0.07403762,\n",
       "         0.35498164,  0.16328727, -0.20848571, -0.19683975,  1.        ]])"
      ]
     },
     "execution_count": 28,
     "metadata": {},
     "output_type": "execute_result"
    }
   ],
   "source": [
    "np.corrcoef(data.T)"
   ]
  },
  {
   "cell_type": "markdown",
   "id": "2e662ba2",
   "metadata": {},
   "source": [
    "### The most correlated data should look at the correlation matrix rather than covariance matrix. It is x_0 and x_3 bins."
   ]
  },
  {
   "cell_type": "code",
   "execution_count": 45,
   "id": "7b318ebd",
   "metadata": {},
   "outputs": [],
   "source": [
    "cov_matrix_inverse = np.linalg.inv(np.cov(data.T))"
   ]
  },
  {
   "cell_type": "code",
   "execution_count": 48,
   "id": "4ab1a6ee",
   "metadata": {},
   "outputs": [],
   "source": [
    "residue = ([ np.mean(i) for i in data.T ] - (3*np.arange(0.5, 10, 1)+5.5))"
   ]
  },
  {
   "cell_type": "code",
   "execution_count": 52,
   "id": "6cde5a99",
   "metadata": {},
   "outputs": [],
   "source": [
    "chi_sq = np.sum(np.dot(residue, cov_matrix_inverse, residue))"
   ]
  },
  {
   "cell_type": "code",
   "execution_count": 53,
   "id": "55ec4281",
   "metadata": {},
   "outputs": [
    {
     "data": {
      "text/plain": [
       "0.6375502695025641"
      ]
     },
     "execution_count": 53,
     "metadata": {},
     "output_type": "execute_result"
    }
   ],
   "source": [
    "chi_sq"
   ]
  },
  {
   "cell_type": "code",
   "execution_count": 54,
   "id": "70dd4c93",
   "metadata": {},
   "outputs": [
    {
     "data": {
      "text/plain": [
       "0.9987709202951545"
      ]
     },
     "execution_count": 54,
     "metadata": {},
     "output_type": "execute_result"
    }
   ],
   "source": [
    "chi2.sf (chi_sq, 10-2-1)"
   ]
  },
  {
   "cell_type": "markdown",
   "id": "b627f3f8",
   "metadata": {},
   "source": [
    "### Again, very good fit! Within 99% CL!"
   ]
  },
  {
   "cell_type": "code",
   "execution_count": null,
   "id": "f96e700a",
   "metadata": {},
   "outputs": [],
   "source": []
  }
 ],
 "metadata": {
  "kernelspec": {
   "display_name": "Python 3 (ipykernel)",
   "language": "python",
   "name": "python3"
  },
  "language_info": {
   "codemirror_mode": {
    "name": "ipython",
    "version": 3
   },
   "file_extension": ".py",
   "mimetype": "text/x-python",
   "name": "python",
   "nbconvert_exporter": "python",
   "pygments_lexer": "ipython3",
   "version": "3.11.4"
  }
 },
 "nbformat": 4,
 "nbformat_minor": 5
}
