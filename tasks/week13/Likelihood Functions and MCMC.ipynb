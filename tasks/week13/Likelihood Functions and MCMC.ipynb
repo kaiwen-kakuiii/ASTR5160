{
 "cells": [
  {
   "cell_type": "code",
   "execution_count": 1,
   "id": "3425d841",
   "metadata": {},
   "outputs": [],
   "source": [
    "import numpy as np\n",
    "from matplotlib import pyplot as plt"
   ]
  },
  {
   "cell_type": "code",
   "execution_count": 25,
   "id": "d4fd22ea",
   "metadata": {},
   "outputs": [],
   "source": [
    "data = np.loadtxt('/d/scratch/ASTR5160/week13/line.data')"
   ]
  },
  {
   "cell_type": "code",
   "execution_count": 28,
   "id": "7830e658",
   "metadata": {},
   "outputs": [],
   "source": [
    "variance = [ np.var(data.T[i], ddof=1) for i in range(10) ]\n",
    "mean = [ np.mean(data.T[i]) for i in range(10) ]\n",
    "\n",
    "y_data = np.vstack((mean, variance))"
   ]
  },
  {
   "cell_type": "code",
   "execution_count": 51,
   "id": "367b0ddd",
   "metadata": {},
   "outputs": [],
   "source": [
    "def ln_likelihood(m, b, data):\n",
    "    '''\n",
    "    calculate the ln(likelihood) based on Gaussian distribution \n",
    "    for fitting linear line with m, b and given data.\n",
    "    '''\n",
    "    \n",
    "    y = data[0]\n",
    "    sigma = data[1]\n",
    "    x = np.arange(0, len(data[0])) + 0.5\n",
    "    return -1/2 * np.sum((y - m * x - b)**2 / sigma**2 + np.log(2 * np.pi * sigma**2))"
   ]
  },
  {
   "cell_type": "code",
   "execution_count": 34,
   "id": "79339bd5",
   "metadata": {},
   "outputs": [],
   "source": [
    "def flat_prior(low, upper, x):\n",
    "    '''\n",
    "    flat prior function with low and upper bound.\n",
    "    '''\n",
    "    \n",
    "    if x > upper or x < low: return -np.inf\n",
    "    return 1 / (upper - low)"
   ]
  },
  {
   "cell_type": "code",
   "execution_count": 41,
   "id": "a051f841",
   "metadata": {},
   "outputs": [],
   "source": [
    "def judge_parameter(ln_p_new, ln_p_old):\n",
    "    '''\n",
    "    judge the posterior probability and decide whether accept or not.\n",
    "    '''\n",
    "    \n",
    "    if ln_p_new > ln_p_old:\n",
    "        return True\n",
    "    else:\n",
    "        return np.random.uniform() <= np.exp(ln_p_new - ln_p_old)"
   ]
  },
  {
   "cell_type": "code",
   "execution_count": 68,
   "id": "77d3658c",
   "metadata": {},
   "outputs": [
    {
     "name": "stderr",
     "output_type": "stream",
     "text": [
      "/tmp/ipykernel_1162577/3082225917.py:22: RuntimeWarning: invalid value encountered in log\n",
      "  ln_prior = np.log(flat_prior(low, upp, m_tmp) * flat_prior(low, upp, b_tmp))\n"
     ]
    }
   ],
   "source": [
    "step_size = 0.1\n",
    "low, upp = 0, 8\n",
    "i, step = 0, 10000\n",
    "\n",
    "m, b = 3, 5.5\n",
    "ln_prior = np.log(flat_prior(low, upp, m) * flat_prior(low, upp, b))\n",
    "like = ln_likelihood(m, b, y_data) + ln_prior\n",
    "chain = [[m, b, like]]\n",
    "\n",
    "while True:\n",
    "    # end statement, but I feel the better way to do\n",
    "    # is to have some convergence measurement\n",
    "    if i >= step:\n",
    "        break\n",
    "    i += 1\n",
    "    \n",
    "    # update m and b based on gaussian\n",
    "    m_tmp = np.random.normal(m, step_size)\n",
    "    b_tmp = np.random.normal(b, step_size)\n",
    "    \n",
    "    # calculate the new posterior probability\n",
    "    ln_prior = np.log(flat_prior(low, upp, m_tmp) * flat_prior(low, upp, b_tmp))\n",
    "    like_new = ln_likelihood(m_tmp, b_tmp, y_data) + ln_prior\n",
    "    if judge_parameter(like_new, like):\n",
    "        m, b, like = m_tmp, b_tmp, like_new\n",
    "        chain.append([m, b, like])"
   ]
  },
  {
   "cell_type": "code",
   "execution_count": 69,
   "id": "b88ff708",
   "metadata": {},
   "outputs": [
    {
     "data": {
      "text/plain": [
       "77.85"
      ]
     },
     "execution_count": 69,
     "metadata": {},
     "output_type": "execute_result"
    }
   ],
   "source": [
    "len(chain)/step * 100"
   ]
  },
  {
   "cell_type": "code",
   "execution_count": 70,
   "id": "33b279c5",
   "metadata": {},
   "outputs": [],
   "source": [
    "chain = np.array(chain)"
   ]
  },
  {
   "cell_type": "code",
   "execution_count": 86,
   "id": "436233e7",
   "metadata": {},
   "outputs": [
    {
     "data": {
      "image/png": "[encoded data removed]",
      "text/plain": [
       "<Figure size 640x480 with 1 Axes>"
      ]
     },
     "metadata": {},
     "output_type": "display_data"
    }
   ],
   "source": [
    "bins = np.arange(2.2, 4, 0.1)\n",
    "plt.hist(chain[:, 0], density=True, bins=bins)\n",
    "plt.show()"
   ]
  },
  {
   "cell_type": "code",
   "execution_count": 83,
   "id": "1747a2d2",
   "metadata": {},
   "outputs": [
    {
     "data": {
      "image/png": "[encoded data removed]",
      "text/plain": [
       "<Figure size 640x480 with 1 Axes>"
      ]
     },
     "metadata": {},
     "output_type": "display_data"
    }
   ],
   "source": [
    "bins = np.arange(0, 9, 0.1)\n",
    "plt.hist(chain[:, 1], density=True, bins=bins)\n",
    "plt.show()"
   ]
  },
  {
   "cell_type": "markdown",
   "id": "1191fb1f",
   "metadata": {},
   "source": [
    "## The most probable value for m and b are 3 and 5.5"
   ]
  },
  {
   "cell_type": "code",
   "execution_count": null,
   "id": "df2be972",
   "metadata": {},
   "outputs": [],
   "source": []
  }
 ],
 "metadata": {
  "kernelspec": {
   "display_name": "Python 3 (ipykernel)",
   "language": "python",
   "name": "python3"
  },
  "language_info": {
   "codemirror_mode": {
    "name": "ipython",
    "version": 3
   },
   "file_extension": ".py",
   "mimetype": "text/x-python",
   "name": "python",
   "nbconvert_exporter": "python",
   "pygments_lexer": "ipython3",
   "version": "3.11.4"
  }
 },
 "nbformat": 4,
 "nbformat_minor": 5
}
