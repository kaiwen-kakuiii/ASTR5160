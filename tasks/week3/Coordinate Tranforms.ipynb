{
 "cells": [
  {
   "cell_type": "code",
   "execution_count": 1,
   "id": "initial_id",
   "metadata": {
    "collapsed": true,
    "ExecuteTime": {
     "end_time": "2025-02-07T00:49:39.189033Z",
     "start_time": "2025-02-07T00:49:38.687173Z"
    }
   },
   "outputs": [],
   "source": [
    "import numpy as np\n",
    "from astropy import units as u\n",
    "from astropy.coordinates import SkyCoord\n",
    "from matplotlib import pyplot as plt"
   ]
  },
  {
   "cell_type": "markdown",
   "source": [
    "## problem 1"
   ],
   "metadata": {
    "collapsed": false
   },
   "id": "42aa07b3690e59db"
  },
  {
   "cell_type": "code",
   "execution_count": 2,
   "outputs": [],
   "source": [
    "c = SkyCoord(ra='10h30m30s', dec='10:12:30', unit=(u.hourangle, u.deg))"
   ],
   "metadata": {
    "collapsed": false,
    "ExecuteTime": {
     "end_time": "2025-02-07T00:49:39.198699Z",
     "start_time": "2025-02-07T00:49:39.193506Z"
    }
   },
   "id": "ada75252a3ffe03d"
  },
  {
   "cell_type": "code",
   "execution_count": 3,
   "outputs": [],
   "source": [
    "c.representation_type = 'cartesian'"
   ],
   "metadata": {
    "collapsed": false,
    "ExecuteTime": {
     "end_time": "2025-02-07T00:49:39.203002Z",
     "start_time": "2025-02-07T00:49:39.199149Z"
    }
   },
   "id": "fc4d877a5a98613d"
  },
  {
   "cell_type": "code",
   "execution_count": 4,
   "outputs": [
    {
     "data": {
      "text/plain": "<SkyCoord (ICRS): (x, y, z) [dimensionless]\n    (-0.91007388, 0.37464091, 0.17722788)>"
     },
     "execution_count": 4,
     "metadata": {},
     "output_type": "execute_result"
    }
   ],
   "source": [
    "c"
   ],
   "metadata": {
    "collapsed": false,
    "ExecuteTime": {
     "end_time": "2025-02-07T00:49:39.207893Z",
     "start_time": "2025-02-07T00:49:39.202634Z"
    }
   },
   "id": "738a81cb6e1bc431"
  },
  {
   "cell_type": "markdown",
   "source": [
    "# problem 2"
   ],
   "metadata": {
    "collapsed": false
   },
   "id": "dd4ac0d9c08de80e"
  },
  {
   "cell_type": "code",
   "execution_count": 5,
   "outputs": [],
   "source": [
    "c = SkyCoord(l='0', b='0', unit=(u.deg, u.deg), frame='galactic')"
   ],
   "metadata": {
    "collapsed": false,
    "ExecuteTime": {
     "end_time": "2025-02-07T00:49:39.208069Z",
     "start_time": "2025-02-07T00:49:39.206258Z"
    }
   },
   "id": "cae2bd91f84784b7"
  },
  {
   "cell_type": "code",
   "execution_count": 6,
   "outputs": [
    {
     "data": {
      "text/plain": "<SkyCoord (Galactic): (l, b) in deg\n    (0., 0.)>"
     },
     "execution_count": 6,
     "metadata": {},
     "output_type": "execute_result"
    }
   ],
   "source": [
    "c"
   ],
   "metadata": {
    "collapsed": false,
    "ExecuteTime": {
     "end_time": "2025-02-07T00:49:39.230232Z",
     "start_time": "2025-02-07T00:49:39.208679Z"
    }
   },
   "id": "5a8976bcdf374bec"
  },
  {
   "cell_type": "code",
   "execution_count": 7,
   "outputs": [
    {
     "data": {
      "text/plain": "<SkyCoord (ICRS): (ra, dec) in deg\n    (266.40498829, -28.93617776)>"
     },
     "execution_count": 7,
     "metadata": {},
     "output_type": "execute_result"
    }
   ],
   "source": [
    "c.transform_to('icrs')"
   ],
   "metadata": {
    "collapsed": false,
    "ExecuteTime": {
     "end_time": "2025-02-07T00:49:39.236372Z",
     "start_time": "2025-02-07T00:49:39.212351Z"
    }
   },
   "id": "46ae0b189404d18"
  },
  {
   "cell_type": "markdown",
   "source": [
    "# What constellation"
   ],
   "metadata": {
    "collapsed": false
   },
   "id": "29aa1562a7d00a8a"
  },
  {
   "cell_type": "markdown",
   "source": [
    "# problem 3"
   ],
   "metadata": {
    "collapsed": false
   },
   "id": "ae36ea68567f4ec"
  },
  {
   "cell_type": "code",
   "execution_count": 8,
   "outputs": [],
   "source": [
    "ra_list = np.linspace(0, 360, 12)\n",
    "\n",
    "l, b = [], []\n",
    "for ra in ra_list:\n",
    "    c = SkyCoord(ra=ra*u.deg, dec=40*u.deg)\n",
    "    d = c.transform_to('galactic')\n",
    "    l.append(d.l.degree)\n",
    "    b.append(d.b.degree)"
   ],
   "metadata": {
    "collapsed": false,
    "ExecuteTime": {
     "end_time": "2025-02-07T00:49:39.236743Z",
     "start_time": "2025-02-07T00:49:39.214970Z"
    }
   },
   "id": "de905c7e12b13781"
  },
  {
   "cell_type": "code",
   "execution_count": 9,
   "outputs": [
    {
     "data": {
      "text/plain": "<Figure size 640x480 with 1 Axes>",
      "image/png": "[encoded data removed]"
     },
     "metadata": {},
     "output_type": "display_data"
    }
   ],
   "source": [
    "month = np.arange(1., 13., 1)\n",
    "plt.plot(month, l, label='l')\n",
    "plt.plot(month, b, label='b')\n",
    "plt.xlabel('month')\n",
    "plt.legend()\n",
    "plt.show()"
   ],
   "metadata": {
    "collapsed": false,
    "ExecuteTime": {
     "end_time": "2025-02-07T00:49:39.286672Z",
     "start_time": "2025-02-07T00:49:39.225480Z"
    }
   },
   "id": "1451ac9950d6ac03"
  },
  {
   "cell_type": "markdown",
   "source": [
    "# problem 4"
   ],
   "metadata": {
    "collapsed": false
   },
   "id": "72a4ea1b4ba09c7a"
  },
  {
   "cell_type": "code",
   "execution_count": 10,
   "outputs": [],
   "source": [
    "from astropy.time import Time\n",
    "from astropy.coordinates import get_body_barycentric"
   ],
   "metadata": {
    "collapsed": false,
    "ExecuteTime": {
     "end_time": "2025-02-07T00:49:39.290550Z",
     "start_time": "2025-02-07T00:49:39.287087Z"
    }
   },
   "id": "7bbf675d7ec78944"
  },
  {
   "cell_type": "code",
   "execution_count": 11,
   "outputs": [],
   "source": [
    "from astropy.coordinates import HeliocentricTrueEcliptic\n",
    "\n",
    "t = Time.now()\n",
    "coord = get_body_barycentric('moon', t)\n",
    "coord_sky = SkyCoord(coord, frame=\"icrs\")"
   ],
   "metadata": {
    "collapsed": false,
    "ExecuteTime": {
     "end_time": "2025-02-07T00:49:39.297977Z",
     "start_time": "2025-02-07T00:49:39.291532Z"
    }
   },
   "id": "88ebaa986ed8223d"
  },
  {
   "cell_type": "code",
   "execution_count": 12,
   "outputs": [
    {
     "data": {
      "text/plain": "<SkyCoord (HeliocentricTrueEcliptic: equinox=J2000.000, obstime=J2000.000): (lon, lat, distance) in (deg, deg, AU)\n    (138.03921417, 0.00865942, 0.98445655)>"
     },
     "execution_count": 12,
     "metadata": {},
     "output_type": "execute_result"
    }
   ],
   "source": [
    "coord_sky.transform_to(HeliocentricTrueEcliptic())"
   ],
   "metadata": {
    "collapsed": false,
    "ExecuteTime": {
     "end_time": "2025-02-07T00:49:39.302374Z",
     "start_time": "2025-02-07T00:49:39.300608Z"
    }
   },
   "id": "f77213dfbb73f528"
  },
  {
   "cell_type": "code",
   "execution_count": 13,
   "outputs": [],
   "source": [
    "from astropy.coordinates import ICRS\n",
    "\n",
    "coord_sky = SkyCoord(x=coord.x, y=coord.y, z=coord.z, frame=ICRS(), representation_type=\"cartesian\")"
   ],
   "metadata": {
    "collapsed": false,
    "ExecuteTime": {
     "end_time": "2025-02-07T00:49:39.305911Z",
     "start_time": "2025-02-07T00:49:39.303208Z"
    }
   },
   "id": "845d796289767920"
  },
  {
   "cell_type": "code",
   "execution_count": 14,
   "outputs": [
    {
     "data": {
      "text/plain": "<SkyCoord (HeliocentricTrueEcliptic: equinox=J2000.000, obstime=J2000.000): (lon, lat, distance) in (deg, deg, AU)\n    (138.03921417, 0.00865942, 0.98445655)>"
     },
     "execution_count": 14,
     "metadata": {},
     "output_type": "execute_result"
    }
   ],
   "source": [
    "coord_sky.transform_to(HeliocentricTrueEcliptic())"
   ],
   "metadata": {
    "collapsed": false,
    "ExecuteTime": {
     "end_time": "2025-02-07T00:49:39.342580Z",
     "start_time": "2025-02-07T00:49:39.309101Z"
    }
   },
   "id": "77f5b119fb4784fa"
  },
  {
   "cell_type": "code",
   "execution_count": 15,
   "outputs": [
    {
     "data": {
      "text/plain": "<SkyCoord (ICRS): (x, y, z) in AU\n    (-0.73922535, 0.60116195, 0.26102223)>"
     },
     "execution_count": 15,
     "metadata": {},
     "output_type": "execute_result"
    }
   ],
   "source": [
    "coord_sky.transform_to(ICRS())"
   ],
   "metadata": {
    "collapsed": false,
    "ExecuteTime": {
     "end_time": "2025-02-07T00:49:39.342730Z",
     "start_time": "2025-02-07T00:49:39.311787Z"
    }
   },
   "id": "30672126e6ef0bea"
  },
  {
   "cell_type": "code",
   "execution_count": 16,
   "outputs": [],
   "source": [
    "coord_icrs = SkyCoord(ra=140.87241471 * u.deg, \n",
    "                      dec=15.32291644 * u.deg, \n",
    "                      distance=0.98791145 * u.AU, \n",
    "                      frame=\"icrs\")"
   ],
   "metadata": {
    "collapsed": false,
    "ExecuteTime": {
     "end_time": "2025-02-07T00:49:39.342968Z",
     "start_time": "2025-02-07T00:49:39.314528Z"
    }
   },
   "id": "e58d0185af7a4511"
  },
  {
   "cell_type": "code",
   "execution_count": 17,
   "outputs": [],
   "source": [
    "coord_ecliptic = coord_icrs.transform_to(HeliocentricTrueEcliptic())"
   ],
   "metadata": {
    "collapsed": false,
    "ExecuteTime": {
     "end_time": "2025-02-07T00:49:39.343037Z",
     "start_time": "2025-02-07T00:49:39.317568Z"
    }
   },
   "id": "b09b0e4c9ed78b9b"
  },
  {
   "cell_type": "code",
   "execution_count": 17,
   "outputs": [],
   "source": [],
   "metadata": {
    "collapsed": false,
    "ExecuteTime": {
     "end_time": "2025-02-07T00:49:39.343072Z",
     "start_time": "2025-02-07T00:49:39.319039Z"
    }
   },
   "id": "445e8259329be77f"
  }
 ],
 "metadata": {
  "kernelspec": {
   "display_name": "Python 3",
   "language": "python",
   "name": "python3"
  },
  "language_info": {
   "codemirror_mode": {
    "name": "ipython",
    "version": 2
   },
   "file_extension": ".py",
   "mimetype": "text/x-python",
   "name": "python",
   "nbconvert_exporter": "python",
   "pygments_lexer": "ipython2",
   "version": "2.7.6"
  }
 },
 "nbformat": 4,
 "nbformat_minor": 5
}
