{
 "cells": [
  {
   "cell_type": "code",
   "execution_count": 6,
   "id": "initial_id",
   "metadata": {
    "collapsed": true,
    "ExecuteTime": {
     "end_time": "2025-02-21T22:47:06.502807Z",
     "start_time": "2025-02-21T22:47:06.497647Z"
    }
   },
   "outputs": [],
   "source": [
    "import numpy as np\n",
    "from astropy.coordinates import SkyCoord\n",
    "import astropy.units as u"
   ]
  },
  {
   "cell_type": "code",
   "execution_count": 40,
   "outputs": [],
   "source": [
    "def spherical_caps_vector(ra, dec, theta):\n",
    "    \"\"\"\n",
    "    Transform the (ra, dec, theta) into (x, y, z, 1-h) for spherical cap vector\n",
    "    :param ra: ra angle which represents spherical cap (degree)\n",
    "    :param dec: dec angle which represents spherical cap (degree)\n",
    "    :param theta: radius on the surface of the unit sphere (degree)\n",
    "    :return: vector that represents the spherical cap in (x, y, z, 1-h)\n",
    "    \"\"\"\n",
    "\n",
    "    c = SkyCoord(ra, dec).cartesian\n",
    "    return [c.x.value, c.y.value, c.z.value, (1.-np.cos(theta)).value]"
   ],
   "metadata": {
    "collapsed": false,
    "ExecuteTime": {
     "end_time": "2025-02-21T23:09:29.989903Z",
     "start_time": "2025-02-21T23:09:29.981243Z"
    }
   },
   "id": "2ddd59469db47211"
  },
  {
   "cell_type": "code",
   "execution_count": 37,
   "outputs": [
    {
     "data": {
      "text/plain": "[-0.9659258262890682, 0.258819045102521, 0.0, 0.9999999999999999]"
     },
     "execution_count": 37,
     "metadata": {},
     "output_type": "execute_result"
    }
   ],
   "source": [
    "spherical_caps_vector((75+90)*u.deg, 0*u.deg, 90*u.deg)"
   ],
   "metadata": {
    "collapsed": false,
    "ExecuteTime": {
     "end_time": "2025-02-21T23:05:54.005535Z",
     "start_time": "2025-02-21T23:05:53.999259Z"
    }
   },
   "id": "f575032e9c49f0f3"
  },
  {
   "cell_type": "code",
   "execution_count": 38,
   "outputs": [
    {
     "data": {
      "text/plain": "[6.123233995736766e-17, 0.0, 1.0, 0.41221474770752686]"
     },
     "execution_count": 38,
     "metadata": {},
     "output_type": "execute_result"
    }
   ],
   "source": [
    "spherical_caps_vector(0*u.deg, 90*u.deg, (90-36)*u.deg)"
   ],
   "metadata": {
    "collapsed": false,
    "ExecuteTime": {
     "end_time": "2025-02-21T23:05:55.176135Z",
     "start_time": "2025-02-21T23:05:55.170846Z"
    }
   },
   "id": "e6c1444fce2893c6"
  },
  {
   "cell_type": "code",
   "execution_count": 39,
   "outputs": [
    {
     "data": {
      "text/plain": "[0.2093890059558353,\n 0.7814504087735197,\n 0.5877852522924731,\n 0.00015230484360873042]"
     },
     "execution_count": 39,
     "metadata": {},
     "output_type": "execute_result"
    }
   ],
   "source": [
    "spherical_caps_vector(75*u.deg, 36*u.deg, 1*u.deg)"
   ],
   "metadata": {
    "collapsed": false,
    "ExecuteTime": {
     "end_time": "2025-02-21T23:08:25.955420Z",
     "start_time": "2025-02-21T23:08:25.952886Z"
    }
   },
   "id": "a8e9c80231265d3f"
  },
  {
   "cell_type": "code",
   "execution_count": null,
   "outputs": [],
   "source": [],
   "metadata": {
    "collapsed": false
   },
   "id": "31e287d9f3b603f"
  },
  {
   "cell_type": "code",
   "execution_count": null,
   "outputs": [],
   "source": [],
   "metadata": {
    "collapsed": false
   },
   "id": "b34e737412d368f8"
  },
  {
   "cell_type": "code",
   "execution_count": null,
   "outputs": [],
   "source": [],
   "metadata": {
    "collapsed": false
   },
   "id": "86213d143f49cbbe"
  }
 ],
 "metadata": {
  "kernelspec": {
   "display_name": "Python 3",
   "language": "python",
   "name": "python3"
  },
  "language_info": {
   "codemirror_mode": {
    "name": "ipython",
    "version": 2
   },
   "file_extension": ".py",
   "mimetype": "text/x-python",
   "name": "python",
   "nbconvert_exporter": "python",
   "pygments_lexer": "ipython2",
   "version": "2.7.6"
  }
 },
 "nbformat": 4,
 "nbformat_minor": 5
}
