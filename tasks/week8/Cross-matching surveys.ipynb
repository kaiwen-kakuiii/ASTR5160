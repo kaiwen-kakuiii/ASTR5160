{
 "cells": [
  {
   "cell_type": "code",
   "execution_count": 68,
   "id": "initial_id",
   "metadata": {
    "collapsed": true,
    "ExecuteTime": {
     "end_time": "2025-03-14T23:12:15.418790Z",
     "start_time": "2025-03-14T23:12:15.415701Z"
    }
   },
   "outputs": [],
   "source": [
    "from astropy.table import Table\n",
    "from matplotlib import pyplot as plt\n",
    "import os"
   ]
  },
  {
   "cell_type": "code",
   "execution_count": 21,
   "outputs": [
    {
     "data": {
      "text/plain": "['RA',\n 'DEC',\n 'SIDEPROB',\n 'FPEAK',\n 'FINT',\n 'RMS',\n 'MAJOR',\n 'MINOR',\n 'POSANG',\n 'FITTED_MAJOR',\n 'FITTED_MINOR',\n 'FITTED_POSANG',\n 'FLDNAME',\n 'NSDSS',\n 'SDSS_SEP',\n 'SDSS_MAG',\n 'SDSS_CLASS',\n 'NGSC2',\n 'GSC2_SEP',\n 'GSC2_MAG',\n 'GSC2_CLASS',\n 'NTMASS',\n 'TMASS_SEP',\n 'TMASS_MAG']"
     },
     "execution_count": 21,
     "metadata": {},
     "output_type": "execute_result"
    }
   ],
   "source": [
    "objs = Table.read('data/first_08jul16.fits')\n",
    "objs.colnames"
   ],
   "metadata": {
    "collapsed": false,
    "ExecuteTime": {
     "end_time": "2025-03-14T22:05:27.420435Z",
     "start_time": "2025-03-14T22:05:27.358006Z"
    }
   },
   "id": "92b524c671f2c838"
  },
  {
   "cell_type": "code",
   "execution_count": 22,
   "outputs": [
    {
     "data": {
      "text/plain": "<Figure size 640x480 with 1 Axes>",
      "image/png": "[encoded data removed]"
     },
     "metadata": {},
     "output_type": "display_data"
    }
   ],
   "source": [
    "plt.plot(objs['RA'], objs['DEC'], 'bx')\n",
    "plt.show()"
   ],
   "metadata": {
    "collapsed": false,
    "ExecuteTime": {
     "end_time": "2025-03-14T22:06:31.724204Z",
     "start_time": "2025-03-14T22:06:31.521617Z"
    }
   },
   "id": "77c049da30f82a47"
  },
  {
   "cell_type": "code",
   "execution_count": 23,
   "outputs": [],
   "source": [
    "ra, dec = objs['RA'][:100], objs['DEC'][:100]"
   ],
   "metadata": {
    "collapsed": false,
    "ExecuteTime": {
     "end_time": "2025-03-14T22:08:50.624324Z",
     "start_time": "2025-03-14T22:08:50.619691Z"
    }
   },
   "id": "a26c317c326728c1"
  },
  {
   "cell_type": "code",
   "execution_count": 29,
   "outputs": [],
   "source": [
    "for i in range(len(ra)):\n",
    "    os.system(f\"python sdssDR9query.py {ra[i]} {dec[i]}>> result.txt\")"
   ],
   "metadata": {
    "collapsed": false,
    "ExecuteTime": {
     "end_time": "2025-03-14T22:44:28.669554Z",
     "start_time": "2025-03-14T22:40:57.288526Z"
    }
   },
   "id": "2c822cb79374dd86"
  },
  {
   "cell_type": "code",
   "execution_count": 32,
   "outputs": [],
   "source": [
    "data = []\n",
    "with open('result.txt') as f:\n",
    "    for line in f.readlines():\n",
    "        if 'No' in line:\n",
    "            continue\n",
    "        data.append(line.strip().split(','))"
   ],
   "metadata": {
    "collapsed": false,
    "ExecuteTime": {
     "end_time": "2025-03-14T22:51:52.078123Z",
     "start_time": "2025-03-14T22:51:52.075636Z"
    }
   },
   "id": "18c9292caa92868a"
  },
  {
   "cell_type": "code",
   "execution_count": 66,
   "outputs": [],
   "source": [
    "def get_sweep_files(data):\n",
    "    sweep_files = []\n",
    "    \n",
    "    for element in data:\n",
    "        ra, dec = float(element[0]), float(element[1])\n",
    "        ra_1, ra_2 = str(int(ra//10*10)).rjust(3, '0'), str(int(ra//10*10+10)).rjust(3, '0')\n",
    "        dec_1, dec_2 = str(int(dec//5*5)).rjust(3, '0'), str(int(dec//5*5+5)).rjust(3, '0')\n",
    "        sweep_files.append(f'sweep-{ra_1}p{dec_1}-{ra_2}p{dec_2}.fits')\n",
    "        \n",
    "    return set(sweep_files)"
   ],
   "metadata": {
    "collapsed": false,
    "ExecuteTime": {
     "end_time": "2025-03-14T23:12:00.078232Z",
     "start_time": "2025-03-14T23:12:00.075035Z"
    }
   },
   "id": "c4f1bb610a0583ac"
  },
  {
   "cell_type": "code",
   "execution_count": 67,
   "outputs": [
    {
     "data": {
      "text/plain": "{'sweep-100p060-110p065.fits',\n 'sweep-150p060-160p065.fits',\n 'sweep-160p060-170p065.fits',\n 'sweep-190p060-200p065.fits',\n 'sweep-210p060-220p065.fits'}"
     },
     "execution_count": 67,
     "metadata": {},
     "output_type": "execute_result"
    }
   ],
   "source": [
    "get_sweep_files(data)"
   ],
   "metadata": {
    "collapsed": false,
    "ExecuteTime": {
     "end_time": "2025-03-14T23:12:07.408315Z",
     "start_time": "2025-03-14T23:12:07.404800Z"
    }
   },
   "id": "7353f5371cc19b31"
  },
  {
   "cell_type": "code",
   "execution_count": null,
   "outputs": [],
   "source": [],
   "metadata": {
    "collapsed": false
   },
   "id": "856ed6d3b5d698f6"
  }
 ],
 "metadata": {
  "kernelspec": {
   "display_name": "Python 3",
   "language": "python",
   "name": "python3"
  },
  "language_info": {
   "codemirror_mode": {
    "name": "ipython",
    "version": 2
   },
   "file_extension": ".py",
   "mimetype": "text/x-python",
   "name": "python",
   "nbconvert_exporter": "python",
   "pygments_lexer": "ipython2",
   "version": "2.7.6"
  }
 },
 "nbformat": 4,
 "nbformat_minor": 5
}
