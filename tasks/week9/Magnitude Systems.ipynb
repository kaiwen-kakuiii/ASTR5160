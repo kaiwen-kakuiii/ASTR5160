{
 "cells": [
  {
   "cell_type": "code",
   "execution_count": 12,
   "outputs": [],
   "source": [
    "def conversion_johnson2sdss(V, B_V, U_B, V_R, R_I):\n",
    "    g = V + 0.63 * B_V - 0.124\n",
    "    u = g + 0.75 * U_B + 0.77 * B_V + 0.72\n",
    "    r = g - 1.646 * V_R + 0.139\n",
    "    i = r - 1.007 * R_I + 0.236\n",
    "    z = r - 1.584 * R_I + 0.386\n",
    "    return u, g, r, i, z"
   ],
   "metadata": {
    "collapsed": false,
    "ExecuteTime": {
     "end_time": "2025-03-28T22:37:02.375879Z",
     "start_time": "2025-03-28T22:37:02.373798Z"
    }
   },
   "id": "c8324cd85d1fa1cc"
  },
  {
   "cell_type": "code",
   "execution_count": 13,
   "outputs": [],
   "source": [
    "u, g, r, i, z = conversion_johnson2sdss(15.256, 0.873, 0.320, 0.505, 0.511)"
   ],
   "metadata": {
    "collapsed": false,
    "ExecuteTime": {
     "end_time": "2025-03-28T22:37:03.325665Z",
     "start_time": "2025-03-28T22:37:03.319056Z"
    }
   },
   "id": "2ae1a60127ccefba"
  },
  {
   "cell_type": "code",
   "execution_count": 14,
   "outputs": [
    {
     "data": {
      "text/plain": "(17.3142,\n 15.681989999999999,\n 14.989759999999999,\n 14.711183,\n 14.566335999999998)"
     },
     "execution_count": 14,
     "metadata": {},
     "output_type": "execute_result"
    }
   ],
   "source": [
    "u, g, r, i, z"
   ],
   "metadata": {
    "collapsed": false,
    "ExecuteTime": {
     "end_time": "2025-03-28T22:37:03.896950Z",
     "start_time": "2025-03-28T22:37:03.893127Z"
    }
   },
   "id": "aef3da253f72d052"
  },
  {
   "cell_type": "markdown",
   "source": [
    "## They match pretty well, except small deviation in SDSS-r band."
   ],
   "metadata": {
    "collapsed": false
   },
   "id": "1e91c167a6f6cbd5"
  },
  {
   "cell_type": "code",
   "execution_count": 2,
   "outputs": [],
   "source": [
    "from astropy.io import fits\n",
    "from astropy.table import Table\n",
    "import numpy as np"
   ],
   "metadata": {
    "collapsed": false
   },
   "id": "4fd09474"
  },
  {
   "cell_type": "code",
   "execution_count": 7,
   "id": "948f94b4",
   "metadata": {},
   "outputs": [],
   "source": [
    "file = '/d/scratch/ASTR5160/data/legacysurvey/dr9/south/sweep/9.0/sweep-240p005-250p010.fits'\n",
    "hdul = fits.open(file)\n",
    "data = hdul[1].data\n",
    "hdul.close()"
   ]
  },
  {
   "cell_type": "code",
   "execution_count": 40,
   "id": "ec79509c",
   "metadata": {},
   "outputs": [],
   "source": [
    "mask = (248.858 < data['RA']) & (data['RA'] < 248.859) & (9.798 < data['DEC']) & (data['DEC'] < 9.799)\n",
    "flux_z = data['FLUX_Z'][mask]\n",
    "flux_g = data['FLUX_G'][mask]\n",
    "flux_r = data['FLUX_R'][mask]"
   ]
  },
  {
   "cell_type": "code",
   "execution_count": 44,
   "id": "46145280",
   "metadata": {},
   "outputs": [],
   "source": [
    "m_z = 22.5 - 2.5 * np.log10(flux_z)\n",
    "m_g = 22.5 - 2.5 * np.log10(flux_g)\n",
    "m_r = 22.5 - 2.5 * np.log10(flux_r)"
   ]
  },
  {
   "cell_type": "code",
   "execution_count": 45,
   "id": "916298d3",
   "metadata": {},
   "outputs": [
    {
     "data": {
      "text/plain": [
       "(array([14.517736], dtype=float32),\n",
       " array([15.580078], dtype=float32),\n",
       " array([14.901785], dtype=float32))"
      ]
     },
     "execution_count": 45,
     "metadata": {},
     "output_type": "execute_result"
    }
   ],
   "source": [
    "m_z, m_g, m_r"
   ]
  },
  {
   "cell_type": "code",
   "execution_count": 46,
   "id": "4181c43c",
   "metadata": {},
   "outputs": [
    {
     "data": {
      "text/plain": [
       "(array([603.8309], dtype=float32),\n",
       " array([328.57047], dtype=float32),\n",
       " array([38.98512], dtype=float32),\n",
       " array([-890.0304], dtype=float32))"
      ]
     },
     "execution_count": 46,
     "metadata": {},
     "output_type": "execute_result"
    }
   ],
   "source": [
    "data['FLUX_W1'][mask], data['FLUX_W2'][mask], data['FLUX_W3'][mask], data['FLUX_W4'][mask]"
   ]
  },
  {
   "cell_type": "markdown",
   "id": "54534c23",
   "metadata": {},
   "source": [
    "## Flux in WISE is all very low, even negative at W4 band indicating no detection."
   ]
  },
  {
   "cell_type": "code",
   "execution_count": null,
   "outputs": [],
   "source": [],
   "metadata": {
    "collapsed": false
   },
   "id": "25c298151a8828b"
  }
 ],
 "metadata": {
  "kernelspec": {
   "display_name": "Python 3 (ipykernel)",
   "language": "python",
   "name": "python3"
  },
  "language_info": {
   "codemirror_mode": {
    "name": "ipython",
    "version": 3
   },
   "file_extension": ".py",
   "mimetype": "text/x-python",
   "name": "python",
   "nbconvert_exporter": "python",
   "pygments_lexer": "ipython3",
   "version": "3.11.4"
  }
 },
 "nbformat": 4,
 "nbformat_minor": 5
}
