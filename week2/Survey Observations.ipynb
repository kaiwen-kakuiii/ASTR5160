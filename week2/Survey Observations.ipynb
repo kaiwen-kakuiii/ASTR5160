{
 "cells": [
  {
   "cell_type": "code",
   "execution_count": 1,
   "outputs": [],
   "source": [
    "from astropy import units as u\n",
    "from astropy.coordinates import SkyCoord\n",
    "from astropy.time import Time\n",
    "import numpy as np"
   ],
   "metadata": {
    "collapsed": false,
    "ExecuteTime": {
     "end_time": "2025-02-28T22:18:34.895036Z",
     "start_time": "2025-02-28T22:18:34.592492Z"
    }
   },
   "id": "96594caae84c42e8"
  },
  {
   "cell_type": "markdown",
   "source": [
    "## Python tasks"
   ],
   "metadata": {
    "collapsed": false
   },
   "id": "479cb1382e7effc7"
  },
  {
   "cell_type": "code",
   "execution_count": 2,
   "outputs": [],
   "source": [
    "c = SkyCoord(ra='10h30m30s', dec='10.30', unit=(u.hourangle, u.deg))"
   ],
   "metadata": {
    "collapsed": false,
    "ExecuteTime": {
     "end_time": "2025-02-28T22:18:40.214022Z",
     "start_time": "2025-02-28T22:18:40.203287Z"
    }
   },
   "id": "11ad75356077ce68"
  },
  {
   "cell_type": "code",
   "execution_count": 3,
   "outputs": [
    {
     "data": {
      "text/plain": "157.62499999999997"
     },
     "execution_count": 3,
     "metadata": {},
     "output_type": "execute_result"
    }
   ],
   "source": [
    "c.ra.degree"
   ],
   "metadata": {
    "collapsed": false,
    "ExecuteTime": {
     "end_time": "2025-02-28T22:18:43.248654Z",
     "start_time": "2025-02-28T22:18:43.242862Z"
    }
   },
   "id": "initial_id"
  },
  {
   "cell_type": "code",
   "execution_count": 4,
   "outputs": [
    {
     "data": {
      "text/plain": "10.3"
     },
     "execution_count": 4,
     "metadata": {},
     "output_type": "execute_result"
    }
   ],
   "source": [
    "c.dec.degree"
   ],
   "metadata": {
    "collapsed": false,
    "ExecuteTime": {
     "end_time": "2025-02-28T22:18:45.383601Z",
     "start_time": "2025-02-28T22:18:45.375027Z"
    }
   },
   "id": "ed40032a23743b95"
  },
  {
   "cell_type": "code",
   "execution_count": 17,
   "outputs": [
    {
     "data": {
      "text/plain": "(60706.95947632533, 2460707.459476325)"
     },
     "execution_count": 17,
     "metadata": {},
     "output_type": "execute_result"
    }
   ],
   "source": [
    "t = Time.now()\n",
    "t.mjd, t.jd"
   ],
   "metadata": {
    "collapsed": false,
    "ExecuteTime": {
     "end_time": "2025-01-31T23:01:38.758858Z",
     "start_time": "2025-01-31T23:01:38.756121Z"
    }
   },
   "id": "b13b41fe1684159d"
  },
  {
   "cell_type": "code",
   "execution_count": 18,
   "outputs": [
    {
     "data": {
      "text/plain": "2400000.5"
     },
     "execution_count": 18,
     "metadata": {},
     "output_type": "execute_result"
    }
   ],
   "source": [
    "t.jd - t.mjd"
   ],
   "metadata": {
    "collapsed": false,
    "ExecuteTime": {
     "end_time": "2025-01-31T23:02:12.102280Z",
     "start_time": "2025-01-31T23:02:12.095407Z"
    }
   },
   "id": "bee757b967bc76a3"
  },
  {
   "cell_type": "code",
   "execution_count": 33,
   "outputs": [
    {
     "name": "stdout",
     "output_type": "stream",
     "text": [
      "2025-01-31 23:01:38.754509 60706.95947632533\n",
      "2025-02-01 23:01:38.754509 60707.95947632533\n",
      "2025-02-02 23:01:38.754509 60708.95947632533\n",
      "2025-02-03 23:01:38.754509 60709.95947632533\n",
      "2025-02-04 23:01:38.754509 60710.95947632533\n",
      "2025-02-05 23:01:38.754509 60711.95947632533\n",
      "2025-02-06 23:01:38.754509 60712.95947632533\n",
      "2025-02-07 23:01:38.754509 60713.95947632533\n",
      "2025-02-08 23:01:38.754509 60714.95947632533\n",
      "2025-02-09 23:01:38.754509 60715.95947632533\n"
     ]
    }
   ],
   "source": [
    "days = np.arange(0, 10, 1)\n",
    "\n",
    "for day in days:\n",
    "    t_new = t + day * u.day\n",
    "    print(t_new, t_new.mjd)"
   ],
   "metadata": {
    "collapsed": false,
    "ExecuteTime": {
     "end_time": "2025-01-31T23:11:00.305256Z",
     "start_time": "2025-01-31T23:11:00.300753Z"
    }
   },
   "id": "22b3610f2e0bf6cd"
  },
  {
   "cell_type": "code",
   "execution_count": 34,
   "outputs": [],
   "source": [],
   "metadata": {
    "collapsed": false,
    "ExecuteTime": {
     "end_time": "2025-01-31T23:11:05.308849Z",
     "start_time": "2025-01-31T23:11:05.299575Z"
    }
   },
   "id": "a8c046e1452f1903"
  }
 ],
 "metadata": {
  "kernelspec": {
   "display_name": "Python 3",
   "language": "python",
   "name": "python3"
  },
  "language_info": {
   "codemirror_mode": {
    "name": "ipython",
    "version": 2
   },
   "file_extension": ".py",
   "mimetype": "text/x-python",
   "name": "python",
   "nbconvert_exporter": "python",
   "pygments_lexer": "ipython2",
   "version": "2.7.6"
  }
 },
 "nbformat": 4,
 "nbformat_minor": 5
}
